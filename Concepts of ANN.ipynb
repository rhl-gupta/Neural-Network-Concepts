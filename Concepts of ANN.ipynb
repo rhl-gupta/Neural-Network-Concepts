{
 "cells": [
  {
   "cell_type": "markdown",
   "metadata": {},
   "source": [
    "## Cat detection : Using a single neuron\n",
    "\n",
    "### The  main objective of this project is to explain all the concepts/phases involved in the neural network"
   ]
  },
  {
   "cell_type": "markdown",
   "metadata": {},
   "source": [
    "## Loading the packages and dataset"
   ]
  },
  {
   "cell_type": "code",
   "execution_count": 12,
   "metadata": {},
   "outputs": [],
   "source": [
    "import numpy as np\n",
    "import matplotlib.pyplot as plt\n",
    "import h5py\n",
    "import scipy\n",
    "from PIL import Image\n",
    "from scipy import ndimage\n",
    "\n",
    "%matplotlib inline\n",
    "    \n",
    "    \n",
    "def load_dataset():\n",
    "    train_dataset = h5py.File('Cat_dataset/train_catvnoncat.h5', \"r\")\n",
    "    train_set_x_orig = np.array(train_dataset[\"train_set_x\"][:]) # your train set features\n",
    "    train_set_y_orig = np.array(train_dataset[\"train_set_y\"][:]) # your train set labels\n",
    "\n",
    "    test_dataset = h5py.File('Cat_dataset/test_catvnoncat.h5', \"r\")\n",
    "    test_set_x_orig = np.array(test_dataset[\"test_set_x\"][:]) # your test set features\n",
    "    test_set_y_orig = np.array(test_dataset[\"test_set_y\"][:]) # your test set labels\n",
    "\n",
    "    classes = np.array(test_dataset[\"list_classes\"][:]) # the list of classes\n",
    "    \n",
    "    train_set_y_orig = train_set_y_orig.reshape((1, train_set_y_orig.shape[0]))\n",
    "    test_set_y_orig = test_set_y_orig.reshape((1, test_set_y_orig.shape[0]))\n",
    "    \n",
    "    return train_set_x_orig, train_set_y_orig, test_set_x_orig, test_set_y_orig, classes"
   ]
  },
  {
   "cell_type": "code",
   "execution_count": 13,
   "metadata": {},
   "outputs": [],
   "source": [
    "train_set_x_orig, train_set_y, test_set_x_orig, test_set_y, classes = load_dataset()"
   ]
  },
  {
   "cell_type": "markdown",
   "metadata": {},
   "source": [
    "## Dataset dimensions and its features\n",
    "##### There are 209 images in the train dataset. These are coloured images, hence three dimensional (i.e RGB) and each diemnsion is 64*64"
   ]
  },
  {
   "cell_type": "code",
   "execution_count": 171,
   "metadata": {},
   "outputs": [
    {
     "name": "stdout",
     "output_type": "stream",
     "text": [
      "(209, 64, 64, 3)\n",
      "(50, 64, 64, 3)\n",
      "(1, 209)\n",
      "(1, 50)\n"
     ]
    }
   ],
   "source": [
    "print(train_set_x_orig.shape)\n",
    "print(test_set_x_orig.shape)\n",
    "print(train_set_y.shape)\n",
    "print(test_set_y.shape)"
   ]
  },
  {
   "cell_type": "markdown",
   "metadata": {},
   "source": [
    "## Plotting any image from train dataset uisng index"
   ]
  },
  {
   "cell_type": "code",
   "execution_count": 268,
   "metadata": {},
   "outputs": [
    {
     "data": {
      "text/plain": [
       "<matplotlib.image.AxesImage at 0x280efb41f60>"
      ]
     },
     "execution_count": 268,
     "metadata": {},
     "output_type": "execute_result"
    },
    {
     "data": {
      "image/png": "[encoded data removed]",
      "text/plain": [
       "<matplotlib.figure.Figure at 0x280efae50b8>"
      ]
     },
     "metadata": {},
     "output_type": "display_data"
    }
   ],
   "source": [
    "plt.imshow(train_set_x_orig[200])"
   ]
  },
  {
   "cell_type": "markdown",
   "metadata": {},
   "source": [
    "## Flattening the images and then centering them"
   ]
  },
  {
   "cell_type": "code",
   "execution_count": 173,
   "metadata": {},
   "outputs": [],
   "source": [
    "train_set_x_flattened = train_set_x_orig.reshape(train_set_x_orig.shape[0],-1).T\n",
    "test_set_x_flattened = test_set_x_orig.reshape(test_set_x_orig.shape[0],-1).T"
   ]
  },
  {
   "cell_type": "code",
   "execution_count": 174,
   "metadata": {},
   "outputs": [
    {
     "name": "stdout",
     "output_type": "stream",
     "text": [
      "(12288, 209)\n",
      "(12288, 50)\n"
     ]
    }
   ],
   "source": [
    "print(train_set_x_flattened.shape)\n",
    "print(test_set_x_flattened.shape)"
   ]
  },
  {
   "cell_type": "code",
   "execution_count": 175,
   "metadata": {},
   "outputs": [],
   "source": [
    "train_X = train_set_x_flattened/255\n",
    "test_X = test_set_x_flattened/255"
   ]
  },
  {
   "cell_type": "markdown",
   "metadata": {},
   "source": [
    "## Setting up the basic functions and parameters"
   ]
  },
  {
   "cell_type": "code",
   "execution_count": 269,
   "metadata": {},
   "outputs": [],
   "source": [
    "# Defining the activation function\n",
    "def activation_func(z):\n",
    "    sigma = 1/(1+np.exp(-z))\n",
    "    return sigma\n",
    "\n",
    "# Initializing the parameters (weights & bias)\n",
    "def initializing_params(X,bias):\n",
    "    w = np.zeros((X.shape[0],1))\n",
    "    b=bias\n",
    "    return w,b\n",
    "# Forward Propgation through NN to get cost and gradients\n",
    "def forward_prop(w,b,X,Y):\n",
    "    m = X.shape[1]\n",
    "    Z = np.dot(w.transpose(),X) + b       # Calculating w*X +b\n",
    "    A = activation_func(Z)                # passing w*X +b to activation function\n",
    "    cost = -np.sum((Y*np.log(A) + (1-Y)*np.log(1-A)))/m  # Calculating the current cost\n",
    "    dw = np.dot(X,(A-Y).transpose())/m    # Calculating the current gradient of parameter 'w'\n",
    "    db = np.sum((A-Y))/m \n",
    "    \n",
    "    return cost,dw,db\n",
    "\n",
    "# Looping through the NN layer to find optimized parameters (i.e.weights and bias )\n",
    "def optimize_parameters(w, b, X, Y, num_iterations, learning_rate, print_cost):\n",
    "    costs = []\n",
    "    for i in range(num_iterations):\n",
    "        cost,dw,db = forward_prop(w, b, X, Y)\n",
    "        w = w - (learning_rate*dw)\n",
    "        b = b - (learning_rate*db)\n",
    "      \n",
    "        if i % 100 == 0:\n",
    "            costs.append(cost)\n",
    "        \n",
    "        # Print the cost every 100 training iterations\n",
    "        if print_cost and i % 100 == 0:\n",
    "            print (\"Cost after iteration %i: %f\" %(i, cost))\n",
    "    \n",
    "    final_params = {\"w\": w,\n",
    "              \"b\": b}\n",
    "    \n",
    "    Current_grads = {\"dw\": dw,\n",
    "             \"db\": db}\n",
    "    \n",
    "    return final_params, Current_grads, costs\n",
    "\n",
    "# Predict the cases using the final optimized parameters\n",
    "def predict(final_w, final_b, X):\n",
    "    m = X.shape[1]\n",
    "    Y_prediction = np.zeros((1,m))\n",
    "    w = final_w.reshape(X.shape[0], 1)\n",
    "    \n",
    "    # Compute vector \"A\" predicting the probabilities of a cat being present in the picture\n",
    "    A = activation_func(np.dot(final_w.transpose(),X)+final_b)\n",
    "        \n",
    "    for i in range(A.shape[1]):\n",
    "        \n",
    "        # Convert probabilities A[0,i] to actual predictions p[0,i]\n",
    "        if A[0,i]>0.5:\n",
    "            Y_prediction[0,i]=1\n",
    "        else:\n",
    "            Y_prediction[0,i]=0\n",
    "   \n",
    "    return Y_prediction"
   ]
  },
  {
   "cell_type": "markdown",
   "metadata": {},
   "source": [
    "### All basic building blocks (functions) are ready. Below chunk will call them in proper order to get the predictions"
   ]
  },
  {
   "cell_type": "code",
   "execution_count": 238,
   "metadata": {
    "scrolled": true
   },
   "outputs": [
    {
     "name": "stdout",
     "output_type": "stream",
     "text": [
      "Cost after iteration 0: 0.693147\n",
      "Cost after iteration 100: 0.584508\n",
      "Cost after iteration 200: 0.466949\n",
      "Cost after iteration 300: 0.376007\n",
      "Cost after iteration 400: 0.331463\n",
      "Cost after iteration 500: 0.303273\n",
      "Cost after iteration 600: 0.279880\n",
      "Cost after iteration 700: 0.260042\n",
      "Cost after iteration 800: 0.242941\n",
      "Cost after iteration 900: 0.228004\n",
      "\n",
      "****  Training set accuracy: 96.65071770334929   ***\n",
      "\n"
     ]
    }
   ],
   "source": [
    "# Step 1 : Initializing the weights and bias\n",
    "w,b = initializing_params(train_X,0)\n",
    "\n",
    "# Step 2: Finding the optimized weights and bias after multiple iterations using gradient descent and proper learning rate \n",
    "final_params, Current_grads, costs = optimize_parameters(w, b, train_X, train_set_y, 1000, 0.005, True)\n",
    "\n",
    "# Prediction using the parameters obtained in above step\n",
    "yhat = predict(final_params[\"w\"],final_params[\"b\"],train_X)\n",
    "\n",
    "# Accuracy on train set\n",
    "Accurcay = 100*(1-np.mean(abs(train_set_y-yhat)))\n",
    "print('\\n****  Training set accuracy: ' + str(Accurcay)  + '   ***\\n')"
   ]
  },
  {
   "cell_type": "markdown",
   "metadata": {},
   "source": [
    "### Plotting the cost function"
   ]
  },
  {
   "cell_type": "code",
   "execution_count": 242,
   "metadata": {},
   "outputs": [
    {
     "data": {
      "text/plain": [
       "<matplotlib.text.Text at 0x280eb576710>"
      ]
     },
     "execution_count": 242,
     "metadata": {},
     "output_type": "execute_result"
    },
    {
     "data": {
      "image/png": "[encoded data removed]",
      "text/plain": [
       "<matplotlib.figure.Figure at 0x280eb4e0358>"
      ]
     },
     "metadata": {},
     "output_type": "display_data"
    }
   ],
   "source": [
    "plt.plot(costs)\n",
    "plt.xlabel('Iterations in hundreds')\n",
    "plt.ylabel('Cost')\n",
    "plt.title('Learning rate = 0.005')"
   ]
  },
  {
   "cell_type": "markdown",
   "metadata": {},
   "source": [
    "## Applying the model on test data set"
   ]
  },
  {
   "cell_type": "code",
   "execution_count": 254,
   "metadata": {},
   "outputs": [
    {
     "name": "stdout",
     "output_type": "stream",
     "text": [
      "\n",
      "***   Test_accuracy : 72.0  ***\n",
      "\n"
     ]
    }
   ],
   "source": [
    "model_w = final_params['w']\n",
    "model_b= final_params['b']\n",
    "test_yhat = predict(model_w,model_b,test_X)\n",
    "Test_accuracy = 100*(1-np.mean(abs(test_yhat-test_set_y)))\n",
    "print('\\n***   ' + 'Test_accuracy : ' + str(Test_accuracy) + '  ***\\n')"
   ]
  },
  {
   "cell_type": "code",
   "execution_count": 255,
   "metadata": {},
   "outputs": [],
   "source": []
  },
  {
   "cell_type": "code",
   "execution_count": null,
   "metadata": {},
   "outputs": [],
   "source": []
  }
 ],
 "metadata": {
  "kernelspec": {
   "display_name": "Python 3",
   "language": "python",
   "name": "python3"
  },
  "language_info": {
   "codemirror_mode": {
    "name": "ipython",
    "version": 3
   },
   "file_extension": ".py",
   "mimetype": "text/x-python",
   "name": "python",
   "nbconvert_exporter": "python",
   "pygments_lexer": "ipython3",
   "version": "3.6.1"
  }
 },
 "nbformat": 4,
 "nbformat_minor": 2
}
